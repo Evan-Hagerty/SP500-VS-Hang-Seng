{
 "cells": [
  {
   "cell_type": "code",
   "execution_count": 10,
   "metadata": {},
   "outputs": [],
   "source": [
    "#imports to run code\n",
    "import pandas as pd \n",
    "import pandas_datareader as web\n",
    "from datetime import datetime\n",
    "import matplotlib.pyplot as plt\n",
    "import numpy as np\n",
    "from matplotlib import style"
   ]
  },
  {
   "cell_type": "code",
   "execution_count": 11,
   "metadata": {},
   "outputs": [
    {
     "name": "stdout",
     "output_type": "stream",
     "text": [
      "    Symbol                 Name                  Sector\n",
      "0      MMM           3M Company             Industrials\n",
      "1      AOS      A.O. Smith Corp             Industrials\n",
      "2      ABT  Abbott Laboratories             Health Care\n",
      "3     ABBV          AbbVie Inc.             Health Care\n",
      "4     ABMD              Abiomed             Health Care\n",
      "..     ...                  ...                     ...\n",
      "500    YUM      Yum! Brands Inc  Consumer Discretionary\n",
      "501   ZBRA   Zebra Technologies  Information Technology\n",
      "502    ZBH        Zimmer Biomet             Health Care\n",
      "503   ZION        Zions Bancorp              Financials\n",
      "504    ZTS               Zoetis             Health Care\n",
      "\n",
      "[505 rows x 3 columns]\n"
     ]
    }
   ],
   "source": [
    "df_sp500 = pd.read_csv('S&P500.csv')\n",
    "\n",
    "print(df_sp500)"
   ]
  },
  {
   "cell_type": "code",
   "execution_count": 12,
   "metadata": {},
   "outputs": [],
   "source": [
    "#starting and ending dates using only this year because the S&P 500 changed in January 2021\n",
    "start = datetime(2021,1,1)\n",
    "end = datetime.today()\n",
    "sp500 =[]\n",
    "hang_seng =[]"
   ]
  },
  {
   "cell_type": "code",
   "execution_count": 13,
   "metadata": {},
   "outputs": [
    {
     "name": "stdout",
     "output_type": "stream",
     "text": [
      "    Symbol                 Name                  Sector\n",
      "0      MMM           3M Company             Industrials\n",
      "1      AOS      A.O. Smith Corp             Industrials\n",
      "2      ABT  Abbott Laboratories             Health Care\n",
      "3     ABBV          AbbVie Inc.             Health Care\n",
      "4     ABMD              Abiomed             Health Care\n",
      "..     ...                  ...                     ...\n",
      "500    YUM      Yum! Brands Inc  Consumer Discretionary\n",
      "501   ZBRA   Zebra Technologies  Information Technology\n",
      "502    ZBH        Zimmer Biomet             Health Care\n",
      "503   ZION        Zions Bancorp              Financials\n",
      "504    ZTS               Zoetis             Health Care\n",
      "\n",
      "[505 rows x 3 columns]\n"
     ]
    }
   ],
   "source": [
    "df_sp500 = pd.read_csv('S&P500.csv')\n",
    "\n",
    "print(df_sp500)"
   ]
  },
  {
   "cell_type": "code",
   "execution_count": 14,
   "metadata": {},
   "outputs": [],
   "source": [
    "# stock tp compare vs twitter activity\n",
    "stock1 = [\"^GSPC\"]\n",
    "stock2 = [\"HSI\"]\n",
    "# reference to csv file \n",
    "ticker = pd.read_csv(r'S&P500.csv')"
   ]
  },
  {
   "cell_type": "code",
   "execution_count": 15,
   "metadata": {},
   "outputs": [
    {
     "name": "stdout",
     "output_type": "stream",
     "text": [
      "Attributes       Date    Adj Close        Close         High          Low  \\\n",
      "Symbols                      ^GSPC        ^GSPC        ^GSPC        ^GSPC   \n",
      "0          2021-01-04  3700.649902  3700.649902  3769.989990  3662.709961   \n",
      "1          2021-01-05  3726.860107  3726.860107  3737.830078  3695.070068   \n",
      "2          2021-01-06  3748.139893  3748.139893  3783.040039  3705.340088   \n",
      "3          2021-01-07  3803.790039  3803.790039  3811.550049  3764.709961   \n",
      "4          2021-01-08  3824.679932  3824.679932  3826.689941  3783.600098   \n",
      "\n",
      "Attributes         Open      Volume  \n",
      "Symbols           ^GSPC       ^GSPC  \n",
      "0           3764.610107  5006680000  \n",
      "1           3698.020020  4582620000  \n",
      "2           3712.199951  6049970000  \n",
      "3           3764.709961  5080870000  \n",
      "4           3815.050049  4764180000  \n"
     ]
    }
   ],
   "source": [
    "df_stock = web.DataReader(stock1,\"yahoo\",start,end)\n",
    "df_stock = df_stock.reset_index()\n",
    "print(df_stock.head())"
   ]
  },
  {
   "cell_type": "code",
   "execution_count": null,
   "metadata": {},
   "outputs": [],
   "source": []
  },
  {
   "cell_type": "code",
   "execution_count": 16,
   "metadata": {},
   "outputs": [
    {
     "data": {
      "image/png": "[encoded data removed]",
      "text/plain": [
       "<Figure size 432x288 with 1 Axes>"
      ]
     },
     "metadata": {
      "needs_background": "light"
     },
     "output_type": "display_data"
    }
   ],
   "source": [
    "df_stock[\"Adj Close\"].plot()\n",
    "\n",
    "plt.show()"
   ]
  },
  {
   "cell_type": "code",
   "execution_count": null,
   "metadata": {},
   "outputs": [],
   "source": []
  }
 ],
 "metadata": {
  "kernelspec": {
   "display_name": "Python 3",
   "language": "python",
   "name": "python3"
  },
  "language_info": {
   "codemirror_mode": {
    "name": "ipython",
    "version": 3
   },
   "file_extension": ".py",
   "mimetype": "text/x-python",
   "name": "python",
   "nbconvert_exporter": "python",
   "pygments_lexer": "ipython3",
   "version": "3.8.3"
  }
 },
 "nbformat": 4,
 "nbformat_minor": 4
}
