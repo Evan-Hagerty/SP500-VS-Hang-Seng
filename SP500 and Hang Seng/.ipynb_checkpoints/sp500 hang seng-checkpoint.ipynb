{
 "cells": [
  {
   "cell_type": "code",
   "execution_count": 18,
   "metadata": {},
   "outputs": [],
   "source": [
    "#imports to run code\n",
    "import pandas as pd \n",
    "import pandas_datareader as web\n",
    "from datetime import datetime\n",
    "import matplotlib.pyplot as plt\n",
    "import numpy as np\n",
    "from matplotlib import style"
   ]
  },
  {
   "cell_type": "code",
   "execution_count": 19,
   "metadata": {},
   "outputs": [],
   "source": [
    "#starting and ending dates using only this year because the S&P 500 changed in January 2021\n",
    "start = datetime(2021,1,2)\n",
    "end = datetime.today() \n",
    "sp500 =[]\n",
    "hang_seng =[]"
   ]
  },
  {
   "cell_type": "code",
   "execution_count": 20,
   "metadata": {},
   "outputs": [],
   "source": [
    "# sp and hang seng declared as variables\n",
    "stock1 = [\"^GSPC\"]\n",
    "stock2 = [\"^HSI\"]\n",
    "# reference to csv file \n",
    "ticker = pd.read_csv(r'S&P500.csv')"
   ]
  },
  {
   "cell_type": "code",
   "execution_count": null,
   "metadata": {},
   "outputs": [],
   "source": [
    "#getting data from yahoo and creating dataframe\n",
    "df_sp = web.DataReader(stock1,\"yahoo\",start,end)\n",
    "del df_sp[\"Attributes\"]\n",
    "df_sp = df_sp.reset_index()\n",
    "print(df_sp.head())"
   ]
  },
  {
   "cell_type": "code",
   "execution_count": null,
   "metadata": {},
   "outputs": [],
   "source": [
    "#getting data from yahoo and creating dataframe\n",
    "df_hs = web.DataReader(stock2, \"yahoo\",start,end)\n",
    "del df_hs[\"Attributes\"]\n",
    "df_hs = df_hs.reset_index()\n",
    "print(df_hs.head())"
   ]
  },
  {
   "cell_type": "code",
   "execution_count": null,
   "metadata": {},
   "outputs": [],
   "source": [
    "#sp500[\"Adj Close\"] price YTD\n",
    "y_sp= df_sp[\"Adj Close\"]\n",
    "x_sp = df_sp[\"Date\"]\n",
    "plt.scatter(x_sp, y_sp, c='red')"
   ]
  },
  {
   "cell_type": "code",
   "execution_count": null,
   "metadata": {},
   "outputs": [],
   "source": [
    "#hang seng[\"Adj Close\"] price YTD\n",
    "y_hs=df_hs[\"Adj Close\"]\n",
    "x_hs=df_hs[\"Date\"]\n",
    "\n",
    "plt.scatter(x_hs, y_hs, c='green',)"
   ]
  },
  {
   "cell_type": "code",
   "execution_count": null,
   "metadata": {},
   "outputs": [],
   "source": [
    "#Simple line chart to show difference is price action\n",
    "plt.plot(x_sp, y_sp, label= \"S&P 500 Index\",c='red', linestyle=\"-.\")\n",
    "plt.show()\n",
    "plt.plot(x_hs, y_hs, label= \"Hang Seng Index\",c='green', linestyle=\":\")\n",
    "\n",
    "plt.legend()\n",
    "plt.show()"
   ]
  },
  {
   "cell_type": "code",
   "execution_count": null,
   "metadata": {},
   "outputs": [],
   "source": [
    "a = (df_hs[\"Close\"]- df_hs[\"Open\"])/(df_hs[\"Open\"]*100)\n",
    "b = (df_sp[\"Close\"]- df_sp[\"Open\"])/(df_sp[\"Open\"]*100)\n",
    "print(a)\n",
    "print(b)"
   ]
  },
  {
   "cell_type": "code",
   "execution_count": null,
   "metadata": {},
   "outputs": [],
   "source": []
  }
 ],
 "metadata": {
  "kernelspec": {
   "display_name": "Python 3",
   "language": "python",
   "name": "python3"
  },
  "language_info": {
   "codemirror_mode": {
    "name": "ipython",
    "version": 3
   },
   "file_extension": ".py",
   "mimetype": "text/x-python",
   "name": "python",
   "nbconvert_exporter": "python",
   "pygments_lexer": "ipython3",
   "version": "3.8.3"
  }
 },
 "nbformat": 4,
 "nbformat_minor": 4
}
